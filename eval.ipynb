{
 "cells": [
  {
   "cell_type": "code",
   "execution_count": null,
   "metadata": {},
   "outputs": [],
   "source": [
    "from collections import Counter\n",
    "import numpy as np\n",
    "import re \n",
    "\n",
    "def normalize_answer(s):\n",
    "    # Lower case, remove punctuation, and whitespaces ### PLEASE CHECK If logic correct / desired ######## \n",
    "    return ' '.join(re.sub(r'[^A-Za-z0-9]', ' ', re.sub(r'\\b(a|an|the)\\b', ' ', s.lower())).split())\n",
    "\n",
    "def metrics(annotation_answers, rag_answers):\n",
    "    f1_scores, exact_matches, recall_scores = [], [], []\n",
    "    \n",
    "    for pred, truth in zip(annotation_answers, rag_answers):\n",
    "        pred_tokens, truth_tokens = normalize_answer(pred).split(), normalize_answer(truth).split()\n",
    "        common_tokens = Counter(pred_tokens) & Counter(truth_tokens)\n",
    "        num_common = sum(common_tokens.values())\n",
    "        \n",
    "        prec = (num_common / len(pred_tokens))\n",
    "        rec = (num_common / len(truth_tokens)) \n",
    "\n",
    "        f1_scores.append( 0 if prec+rec == 0 else (2*(prec*rec)/(prec + rec)))\n",
    "        exact_matches.append(int(pred_tokens == truth_tokens))\n",
    "        recall_scores.append(rec if truth_tokens else 0)\n",
    "    \n",
    "    return np.mean(f1_scores), np.mean(exact_matches), np.mean(recall_scores)"
   ]
  },
  {
   "cell_type": "code",
   "execution_count": null,
   "metadata": {},
   "outputs": [],
   "source": [
    "def metrics(annotation_answers, rag_answers):\n",
    "    f1_scores, exact_matches, recall_scores = [], [], []\n",
    "    \n",
    "    for pred, truth in zip(annotation_answers, rag_answers):\n",
    "        pred_tokens, truth_tokens = normalize_answer(pred).split(), normalize_answer(truth).split()\n",
    "\n",
    "        # Avoid division by zero by checking if pred_tokens or truth_tokens are empty\n",
    "        if len(pred_tokens) == 0 or len(truth_tokens) == 0:\n",
    "            prec = 0\n",
    "            rec = 0\n",
    "        else:\n",
    "            common_tokens = Counter(pred_tokens) & Counter(truth_tokens)\n",
    "            num_common = sum(common_tokens.values())\n",
    "            prec = (num_common / len(pred_tokens))\n",
    "            rec = (num_common / len(truth_tokens))\n",
    "\n",
    "        f1_scores.append(0 if prec + rec == 0 else (2 * (prec * rec) / (prec + rec)))\n",
    "        exact_matches.append(int(pred_tokens == truth_tokens))\n",
    "        recall_scores.append(rec if truth_tokens else 0)\n",
    "\n",
    "    return np.mean(f1_scores), np.mean(exact_matches), np.mean(recall_scores)"
   ]
  },
  {
   "cell_type": "code",
   "execution_count": null,
   "metadata": {},
   "outputs": [],
   "source": [
    "def getFileData(filename):\n",
    "    f = open(filename, \"r\")\n",
    "    data = f.readlines()\n",
    "    f.close()\n",
    "    data = [i.strip() for i in data]\n",
    "    return data\n"
   ]
  },
  {
   "cell_type": "code",
   "execution_count": null,
   "metadata": {},
   "outputs": [],
   "source": [
    "import os\n",
    "directories = [\"Web Scholar PDFs\", \"About Scottie\", \"Buggy News\", \"academic_calendars\", \"history_of_cmu\", \"history_of_scs\", \"Kiltie Band\", \"lti_faculty\", \"lti_programs\", \"program_handbooks\", \"Tartan Facts\", \"courses\"]\n",
    "\n",
    "\n",
    "questions = {}\n",
    "for i in directories:\n",
    "    if \"annotation.txt\" in os.listdir(\"Data/\"+i):\n",
    "        f = open(\"Data/\"+i + \"/annotation.txt\")\n",
    "        lines = f.readlines()\n",
    "        f.close()\n",
    "\n",
    "        q = lines[0::5]\n",
    "        t = lines[3::5]\n",
    "\n",
    "\n",
    "        for count, j in enumerate(q):\n",
    "            questions[j[3:].strip()] = (t[count][3:].strip())"
   ]
  },
  {
   "cell_type": "code",
   "execution_count": null,
   "metadata": {},
   "outputs": [],
   "source": [
    "f = open(\"SubmissionData/test/questions.txt\", \"r\")\n",
    "ref_qs = [i.strip() for i in f.readlines()]\n",
    "f.close()\n",
    "\n",
    "def getPairsByType(ref_qs, annotation_answers, rag_answers):\n",
    "    pairs = {}\n",
    "\n",
    "    \n",
    "\n",
    "    for count, i in enumerate(ref_qs):\n",
    "        if i in questions:\n",
    "            t = questions[i]\n",
    "            if t in pairs:\n",
    "                pairs[t][0].append(rag_answers[count])\n",
    "                pairs[t][1].append(annotation_answers[count])\n",
    "            else:\n",
    "                pairs[t] = [[], []]\n",
    "                pairs[t][0] = [rag_answers[count]]\n",
    "                pairs[t][1] = [annotation_answers[count]]\n",
    "            \n",
    "\n",
    "    return pairs\n",
    "\n",
    "\n",
    "def getRecallByTypes(s, questions):\n",
    "    keyFreq = {}\n",
    "    for i in questions:\n",
    "        if questions[i] in keyFreq:\n",
    "            keyFreq[questions[i]] += 1\n",
    "        else:\n",
    "            keyFreq[questions[i]] = 1\n",
    "            \n",
    "    res = {}\n",
    "    for i in s:\n",
    "        _, _, recall = metrics(s[i][0], s[i][1])\n",
    "        res[i] = recall/keyFreq[i]\n",
    "\n",
    "    \n",
    "\n",
    "    return [(str(i), res[str(i)]) for i in sorted([int(i) for i in res.keys()])]"
   ]
  },
  {
   "cell_type": "code",
   "execution_count": null,
   "metadata": {},
   "outputs": [],
   "source": [
    "refrence_answers = getFileData(\"annotations/answers_1.txt\")"
   ]
  }
 ],
 "metadata": {
  "language_info": {
   "name": "python"
  }
 },
 "nbformat": 4,
 "nbformat_minor": 2
}
